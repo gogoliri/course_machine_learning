{
 "cells": [
  {
   "cell_type": "code",
   "execution_count": 39,
   "id": "121f08a4",
   "metadata": {},
   "outputs": [],
   "source": [
    "import numpy as np\n",
    "import tensorflow as tf\n",
    "from skimage.io import imread_collection\n",
    "from sklearn.model_selection import train_test_split\n",
    "import keras\n",
    "from matplotlib import pyplot as plt\n",
    "\n",
    "# Fix the random seed\n",
    "tf.random.set_seed(0)\n",
    "np.random.seed(0)"
   ]
  },
  {
   "cell_type": "code",
   "execution_count": 40,
   "id": "36a66e7a",
   "metadata": {},
   "outputs": [
    {
     "name": "stdout",
     "output_type": "stream",
     "text": [
      "Found 660 files belonging to 2 classes.\n",
      "Using 528 files for training.\n",
      "Found 660 files belonging to 2 classes.\n",
      "Using 132 files for validation.\n"
     ]
    }
   ],
   "source": [
    "# Load data to tf.data.Dataset objects\n",
    "# Train data\n",
    "train_ds = tf.keras.preprocessing.image_dataset_from_directory(\n",
    "    \"GTSRB_subset_2\",\n",
    "    validation_split=0.2,\n",
    "    subset=\"training\",\n",
    "    seed=0,\n",
    "    image_size=(64, 64),\n",
    "    batch_size=32,\n",
    "    shuffle = True)\n",
    "\n",
    "# Test data\n",
    "val_ds =tf.keras.preprocessing.image_dataset_from_directory(\n",
    "    \"GTSRB_subset_2\",\n",
    "    validation_split=0.2,\n",
    "    subset=\"validation\",\n",
    "    seed=0,\n",
    "    image_size=(64, 64),\n",
    "    batch_size=32,\n",
    "    shuffle = True)"
   ]
  },
  {
   "cell_type": "code",
   "execution_count": 42,
   "id": "3bc3542a",
   "metadata": {},
   "outputs": [
    {
     "name": "stdout",
     "output_type": "stream",
     "text": [
      "Model: \"sequential_9\"\n",
      "_________________________________________________________________\n",
      " Layer (type)                Output Shape              Param #   \n",
      "=================================================================\n",
      " rescaling_9 (Rescaling)     (None, 64, 64, 3)         0         \n",
      "                                                                 \n",
      " flatten_9 (Flatten)         (None, 12288)             0         \n",
      "                                                                 \n",
      " dense_27 (Dense)            (None, 100)               1228900   \n",
      "                                                                 \n",
      " batch_normalization_8 (Batc  (None, 100)              400       \n",
      " hNormalization)                                                 \n",
      "                                                                 \n",
      " dense_28 (Dense)            (None, 100)               10100     \n",
      "                                                                 \n",
      " batch_normalization_9 (Batc  (None, 100)              400       \n",
      " hNormalization)                                                 \n",
      "                                                                 \n",
      " dense_29 (Dense)            (None, 1)                 101       \n",
      "                                                                 \n",
      "=================================================================\n",
      "Total params: 1,239,901\n",
      "Trainable params: 1,239,501\n",
      "Non-trainable params: 400\n",
      "_________________________________________________________________\n",
      "Epoch 1/10\n",
      "17/17 [==============================] - 1s 9ms/step - loss: 0.3129 - accuracy: 0.9091\n",
      "Epoch 2/10\n",
      "17/17 [==============================] - 0s 8ms/step - loss: 0.1553 - accuracy: 0.9848\n",
      "Epoch 3/10\n",
      "17/17 [==============================] - 0s 6ms/step - loss: 0.1058 - accuracy: 0.9962\n",
      "Epoch 4/10\n",
      "17/17 [==============================] - 0s 6ms/step - loss: 0.1148 - accuracy: 0.9830\n",
      "Epoch 5/10\n",
      "17/17 [==============================] - 0s 6ms/step - loss: 0.0852 - accuracy: 1.0000\n",
      "Epoch 6/10\n",
      "17/17 [==============================] - 0s 6ms/step - loss: 0.0727 - accuracy: 1.0000\n",
      "Epoch 7/10\n",
      "17/17 [==============================] - 0s 10ms/step - loss: 0.0711 - accuracy: 0.9962\n",
      "Epoch 8/10\n",
      "17/17 [==============================] - 0s 6ms/step - loss: 0.0703 - accuracy: 0.9981\n",
      "Epoch 9/10\n",
      "17/17 [==============================] - 0s 6ms/step - loss: 0.0721 - accuracy: 0.9943\n",
      "Epoch 10/10\n",
      "17/17 [==============================] - 0s 6ms/step - loss: 0.0555 - accuracy: 1.0000\n"
     ]
    }
   ],
   "source": [
    "batch_size = 32\n",
    "epochs = 10\n",
    "\n",
    "with tf.device('/gpu:0'):\n",
    "    model = tf.keras.Sequential([\n",
    "    tf.keras.layers.Rescaling(1./255, input_shape=(64, 64, 3)),\n",
    "    tf.keras.layers.Flatten(),\n",
    "    tf.keras.layers.Dense(100, activation='relu'),\n",
    "    tf.keras.layers.BatchNormalization(momentum = 0.9),\n",
    "    tf.keras.layers.Dense(100, activation='relu'),\n",
    "    tf.keras.layers.BatchNormalization(momentum = 0.9),\n",
    "    tf.keras.layers.Dense(1, activation = \"sigmoid\")\n",
    "    ])\n",
    "    \n",
    "    # Compile model\n",
    "    model.compile(optimizer=tf.optimizers.SGD(0.001), loss='binary_crossentropy',\n",
    "                  metrics=['accuracy'])\n",
    "    model.summary()\n",
    "\n",
    "    #history = model.fit(x_train, y_train, batch_size=batch_size, epochs=epochs, verbose=1, class_weight = class_weight_dict)\n",
    "    history = model.fit(train_ds, batch_size=batch_size, epochs=epochs, verbose=1)"
   ]
  },
  {
   "cell_type": "code",
   "execution_count": 43,
   "id": "cc116681",
   "metadata": {},
   "outputs": [
    {
     "name": "stdout",
     "output_type": "stream",
     "text": [
      "5/5 [==============================] - 0s 3ms/step - loss: 0.0502 - accuracy: 1.0000\n",
      "Test loss: 0.05020425468683243 - Test accuracy: 1.0\n"
     ]
    }
   ],
   "source": [
    "# Evaluate test data\n",
    "predict = model.evaluate(val_ds)\n",
    "print(f\"Test loss: {predict[0]} - Test accuracy: {predict[1]}\")"
   ]
  },
  {
   "cell_type": "code",
   "execution_count": null,
   "id": "0ddb9649",
   "metadata": {},
   "outputs": [],
   "source": []
  }
 ],
 "metadata": {
  "kernelspec": {
   "display_name": "Python 3 (ipykernel)",
   "language": "python",
   "name": "python3"
  },
  "language_info": {
   "codemirror_mode": {
    "name": "ipython",
    "version": 3
   },
   "file_extension": ".py",
   "mimetype": "text/x-python",
   "name": "python",
   "nbconvert_exporter": "python",
   "pygments_lexer": "ipython3",
   "version": "3.10.0"
  }
 },
 "nbformat": 4,
 "nbformat_minor": 5
}
